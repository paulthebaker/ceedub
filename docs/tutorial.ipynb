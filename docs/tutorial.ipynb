{
 "cells": [
  {
   "cell_type": "markdown",
   "metadata": {},
   "source": [
    "# `ceedub` tutorial"
   ]
  },
  {
   "cell_type": "code",
   "execution_count": null,
   "metadata": {
    "collapsed": false
   },
   "outputs": [],
   "source": [
    "from __future__ import division\n",
    "\n",
    "import numpy as np\n",
    "import matplotlib as mpl\n",
    "mpl.rcParams['image.cmap'] = 'YlOrRd'\n",
    "import matplotlib.pyplot as plt\n",
    "\n",
    "import ceedub as cw\n",
    "\n",
    "%matplotlib inline"
   ]
  },
  {
   "cell_type": "markdown",
   "metadata": {},
   "source": [
    "### simulate data"
   ]
  },
  {
   "cell_type": "code",
   "execution_count": null,
   "metadata": {
    "collapsed": true
   },
   "outputs": [],
   "source": [
    "def sine_gaus(ts, f0, tau=1, t0=0, phi=0, amp=1):\n",
    "    sine = np.sin(2*np.pi * f0 * (ts-t0) + phi)\n",
    "    gaus = np.exp(-0.5*(ts-t0)**2/tau**2)\n",
    "    return amp * sine * gaus"
   ]
  },
  {
   "cell_type": "code",
   "execution_count": null,
   "metadata": {
    "collapsed": false
   },
   "outputs": [],
   "source": [
    "N = 100\n",
    "dt = 0.10  # sec\n",
    "\n",
    "ts = np.arange(N)*dt\n",
    "t0 = ts[N//2]\n",
    "\n",
    "f0 = 2  # hz\n",
    "tau = 0.5  # sec\n",
    "\n",
    "tdat = sine_gaus(ts, f0, tau=tau, t0=t0)"
   ]
  },
  {
   "cell_type": "markdown",
   "metadata": {},
   "source": [
    "## easy transform\n",
    "\n",
    "The built in `cwt`, `icwt`, and `cwtfreq` methods use Morlet-Gabor wavelets with width parameter `w0=6`.  This is the basis used by Torrence and Compo (1998).  It is a pretty good all purpose wavelet basis.\n",
    "\n",
    "There is **no way** to change the basis used by these methods.\n",
    "To use a different basis you must instantiate a `WaveletBasis` object.\n",
    "\n",
    "If you plan on doing several transforms using the same data length (`N`) and sampling cadence (`dt`), you should use the `WaveletBasis` object.\n",
    "These convenience functions create and destroy a `WaveletBasis` each time they are executed, making multiple executions computationally wasteful."
   ]
  },
  {
   "cell_type": "code",
   "execution_count": null,
   "metadata": {
    "collapsed": false
   },
   "outputs": [],
   "source": [
    "wdat = cw.cwt(tdat, dt=dt)\n",
    "tout = cw.icwt(wdat, dt=dt)\n",
    "\n",
    "fs = cw.wavelet.cwtfreq(N, dt=dt)\n",
    "\n",
    "wamp = np.abs(wdat)  # wavelet amplitude"
   ]
  },
  {
   "cell_type": "markdown",
   "metadata": {},
   "source": [
    "### plot transform"
   ]
  },
  {
   "cell_type": "code",
   "execution_count": null,
   "metadata": {
    "collapsed": false
   },
   "outputs": [],
   "source": [
    "# plotting freq bounds (could go 1/(N*dt) -> 1/(2*dt), but this is fine...)\n",
    "fmin = 8/(N*dt)\n",
    "fmax = 1/(2*dt)\n",
    "\n",
    "# [left, bottom, width, height]\n",
    "top = [0.1, 0.4, 0.8, 0.6]\n",
    "bot = [0.1, 0.1, 0.8, 0.3]\n",
    "\n",
    "fig = plt.figure(figsize=(8,6))\n",
    "\n",
    "ax1 = fig.add_axes(bot)  # plot time domain data and comparison\n",
    "ax1.plot(ts, tdat, label='data')\n",
    "ax1.plot(ts, tout, label='icwt')\n",
    "ax1.set_xlabel(\"t (sec)\")\n",
    "ax1.set_ylabel(\"amplitude\")\n",
    "ax1.legend()\n",
    "\n",
    "ax2 = fig.add_axes(top)  # plot wavelet domain data\n",
    "ax2.pcolormesh(ts, fs, wamp, vmin=0)\n",
    "ax2.set_xticklabels([])\n",
    "ax2.set_ylim([fmin, fmax])\n",
    "ax2.set_ylabel(\"freq (Hz)\")\n",
    "ax2.set_yscale('log')"
   ]
  },
  {
   "cell_type": "markdown",
   "metadata": {},
   "source": [
    "In theory the `icwt` should perfectly reproduce the input data, but in practice this is not the case.\n",
    " * finite sampling effects in both time and frequency\n",
    " * roundoff errors in the many FFT-convolutions (forward) and sums (inverse)\n",
    " * errors in ICWT normalization from finite integrations"
   ]
  },
  {
   "cell_type": "markdown",
   "metadata": {},
   "source": [
    "## using a `WaveletBasis`"
   ]
  },
  {
   "cell_type": "markdown",
   "metadata": {},
   "source": [
    "### default settings\n",
    "\n",
    "We can initialize a `WaveletBasis` using the defaults and verify that this reproduces the results of the *easy transform*."
   ]
  },
  {
   "cell_type": "code",
   "execution_count": null,
   "metadata": {
    "collapsed": false
   },
   "outputs": [],
   "source": [
    "wb = cw.WaveletBasis(N=N, dt=dt)\n",
    "wdat2 = wb.cwt(tdat)\n",
    "tout2 = cw.icwt(wdat2, dt=dt)"
   ]
  },
  {
   "cell_type": "code",
   "execution_count": null,
   "metadata": {
    "collapsed": false
   },
   "outputs": [],
   "source": [
    "np.allclose(wdat, wdat2)"
   ]
  },
  {
   "cell_type": "code",
   "execution_count": null,
   "metadata": {
    "collapsed": false
   },
   "outputs": [],
   "source": [
    "np.allclose(tout, tout2)"
   ]
  },
  {
   "cell_type": "markdown",
   "metadata": {},
   "source": [
    "### choosing your own wavelet"
   ]
  },
  {
   "cell_type": "code",
   "execution_count": null,
   "metadata": {
    "collapsed": true
   },
   "outputs": [],
   "source": [
    "morl3 = cw.MorletWave(w0=3)\n",
    "morl8 = cw.MorletWave(w0=8)\n",
    "paul4 = cw.PaulWave(m=4)\n",
    "paul16 = cw.PaulWave(m=16)"
   ]
  },
  {
   "cell_type": "code",
   "execution_count": null,
   "metadata": {
    "collapsed": false
   },
   "outputs": [],
   "source": [
    "t_wave = (np.arange(N)-N//2)*dt\n",
    "\n",
    "fig = plt.figure(figsize=(12,6))\n",
    "ax1=fig.add_subplot(221)\n",
    "ax1.plot(t_wave, morl3(t_wave).real, label='Morlet 3 - real')\n",
    "ax1.plot(t_wave, morl3(t_wave).imag, label='Morlet 3 - imag')\n",
    "ax1.legend()\n",
    "\n",
    "ax2=fig.add_subplot(223)\n",
    "ax2.plot(t_wave, morl8(t_wave).real, label='Morlet 8 - real')\n",
    "ax2.plot(t_wave, morl8(t_wave).imag, label='Morlet 8 - imag')\n",
    "ax2.legend()\n",
    "\n",
    "ax3=fig.add_subplot(222)\n",
    "ax3.plot(t_wave, paul4(t_wave).real, label='Paul 4 - real')\n",
    "ax3.plot(t_wave, paul4(t_wave).imag, label='Paul 4 - imag')\n",
    "ax3.legend()\n",
    "\n",
    "ax4=fig.add_subplot(224)\n",
    "ax4.plot(t_wave, paul16(t_wave).real, label='Paul 16 - real')\n",
    "ax4.plot(t_wave, paul16(t_wave).imag, label='Paul 16 - imag')\n",
    "ax4.legend()\n"
   ]
  },
  {
   "cell_type": "code",
   "execution_count": null,
   "metadata": {
    "collapsed": true
   },
   "outputs": [],
   "source": []
  },
  {
   "cell_type": "code",
   "execution_count": null,
   "metadata": {
    "collapsed": false
   },
   "outputs": [],
   "source": [
    "mb = cw.WaveletBasis(wavelet=morl3, N=N, dt=dt)\n",
    "wdat_morl = mb.cwt(tdat)\n",
    "tout_morl = mb.icwt(wdat_morl)\n",
    "wamp_morl = np.abs(wdat_morl)\n",
    "\n",
    "pb = cw.WaveletBasis(wavelet=paul16, N=N, dt=dt)\n",
    "wdat_paul = pb.cwt(tdat)\n",
    "tout_paul = mb.icwt(wdat_paul)\n",
    "wamp_paul = np.abs(wdat_paul)"
   ]
  },
  {
   "cell_type": "code",
   "execution_count": null,
   "metadata": {
    "collapsed": false
   },
   "outputs": [],
   "source": [
    "# plotting freq bounds (could go 1/(N*dt) -> 1/(2*dt), but this is fine...)\n",
    "fmin = 8/(N*dt)\n",
    "fmax = 1/(2*dt)\n",
    "\n",
    "# four panel bounding boxes!\n",
    "tl = [0.1, 0.4, 0.4, 0.6]\n",
    "bl = [0.1, 0.1, 0.4, 0.3]\n",
    "tr = [0.6, 0.4, 0.4, 0.6]\n",
    "br = [0.6, 0.1, 0.4, 0.3]\n",
    "\n",
    "fig = plt.figure(figsize=(16,6))\n",
    "\n",
    "ax1 = fig.add_axes(bl)  # plot time domain data and comparison\n",
    "ax1.plot(ts, tdat, label='input data')\n",
    "ax1.plot(ts, tout_morl, label='morlet icwt')\n",
    "ax1.set_xlabel(\"t (sec)\")\n",
    "ax1.set_ylabel(\"amplitude\")\n",
    "ax1.legend()\n",
    "\n",
    "ax2 = fig.add_axes(tl)  # plot wavelet domain data\n",
    "ax2.pcolormesh(ts, fs, wamp_morl, vmin=0)\n",
    "ax2.set_xticklabels([])\n",
    "ax2.set_ylim([fmin, fmax])\n",
    "ax2.set_ylabel(\"freq (Hz)\")\n",
    "ax2.set_yscale('log')\n",
    "\n",
    "ax3 = fig.add_axes(br)  # plot time domain data and comparison\n",
    "ax3.plot(ts, tdat, label='input data')\n",
    "ax3.plot(ts, tout_paul, label='paul icwt')\n",
    "ax3.set_xlabel(\"t (sec)\")\n",
    "ax3.set_ylabel(\"amplitude\")\n",
    "ax3.legend()\n",
    "\n",
    "ax4 = fig.add_axes(tr)  # plot wavelet domain data\n",
    "ax4.pcolormesh(ts, fs, wamp_paul, vmin=0)\n",
    "ax4.set_xticklabels([])\n",
    "ax4.set_ylim([fmin, fmax])\n",
    "ax4.set_ylabel(\"freq (Hz)\")\n",
    "ax4.set_yscale('log')"
   ]
  },
  {
   "cell_type": "markdown",
   "metadata": {},
   "source": [
    "## Wavelet Denoising"
   ]
  },
  {
   "cell_type": "markdown",
   "metadata": {},
   "source": [
    "### simulate noisy data"
   ]
  },
  {
   "cell_type": "code",
   "execution_count": null,
   "metadata": {
    "collapsed": true
   },
   "outputs": [],
   "source": [
    "N = 100\n",
    "dt = 0.10  # sec\n",
    "\n",
    "ts = np.arange(N)*dt\n",
    "t0 = ts[N//2]\n",
    "\n",
    "f0 = 2  # hz\n",
    "tau = 0.5  # sec\n",
    "\n",
    "signal = sine_gaus(ts, f0, tau=tau, t0=t0, amp=3)\n",
    "noise = np.random.randn(N)\n",
    "\n",
    "tdat = signal + noise"
   ]
  },
  {
   "cell_type": "code",
   "execution_count": null,
   "metadata": {
    "collapsed": true
   },
   "outputs": [],
   "source": [
    "wb = cw.WaveletBasis(N=N, dt=dt)\n",
    "\n",
    "wdat_orig = wb.cwt(tdat)\n",
    "wamp_orig = np.abs(wdat_orig)\n",
    "\n",
    "tout_orig = wb.icwt(wdat_orig)"
   ]
  },
  {
   "cell_type": "code",
   "execution_count": null,
   "metadata": {
    "collapsed": true
   },
   "outputs": [],
   "source": [
    "minamp = np.sqrt(5)\n",
    "wdat_DN = wdat_orig.copy()\n",
    "wdat_DN[wamp_orig<minamp] = 0\n",
    "wamp_DN = np.abs(wdat_DN)\n",
    "\n",
    "tout_DN = wb.icwt(wdat_DN)"
   ]
  },
  {
   "cell_type": "code",
   "execution_count": null,
   "metadata": {
    "collapsed": false
   },
   "outputs": [],
   "source": [
    "# plotting freq bounds (could go 1/(N*dt) -> 1/(2*dt), but this is fine...)\n",
    "fmin = 8/(N*dt)\n",
    "fmax = 1/(2*dt)\n",
    "\n",
    "# four panel bounding boxes!\n",
    "tl = [0.1, 0.4, 0.4, 0.6]\n",
    "bl = [0.1, 0.1, 0.4, 0.3]\n",
    "tr = [0.6, 0.4, 0.4, 0.6]\n",
    "br = [0.6, 0.1, 0.4, 0.3]\n",
    "\n",
    "fig = plt.figure(figsize=(16,6))\n",
    "\n",
    "ax1 = fig.add_axes(bl)  # plot time domain data and comparison\n",
    "ax1.plot(ts, tdat, label='input data')\n",
    "ax1.plot(ts, tout_orig, label='icwt')\n",
    "ax1.set_xlabel(\"t (sec)\")\n",
    "ax1.set_ylabel(\"amplitude\")\n",
    "ax1.legend()\n",
    "\n",
    "ax2 = fig.add_axes(tl)  # plot wavelet domain data\n",
    "ax2.pcolormesh(ts, fs, wamp_orig, vmin=0)\n",
    "ax2.set_xticklabels([])\n",
    "ax2.set_ylim([fmin, fmax])\n",
    "ax2.set_ylabel(\"freq (Hz)\")\n",
    "ax2.set_yscale('log')\n",
    "\n",
    "ax3 = fig.add_axes(br)  # plot time domain data and comparison\n",
    "ax3.plot(ts, signal, label='input signal')\n",
    "ax3.plot(ts, tout_DN, label='denoised')\n",
    "ax3.set_xlabel(\"t (sec)\")\n",
    "ax3.set_ylabel(\"amplitude\")\n",
    "ax3.legend()\n",
    "\n",
    "ax4 = fig.add_axes(tr)  # plot wavelet domain data\n",
    "ax4.pcolormesh(ts, fs, wamp_DN, vmin=0)\n",
    "ax4.set_xticklabels([])\n",
    "ax4.set_ylim([fmin, fmax])\n",
    "ax4.set_ylabel(\"freq (Hz)\")\n",
    "ax4.set_yscale('log')"
   ]
  },
  {
   "cell_type": "code",
   "execution_count": null,
   "metadata": {
    "collapsed": true
   },
   "outputs": [],
   "source": []
  }
 ],
 "metadata": {
  "anaconda-cloud": {},
  "kernelspec": {
   "display_name": "Python [conda root]",
   "language": "python",
   "name": "conda-root-py"
  },
  "language_info": {
   "codemirror_mode": {
    "name": "ipython",
    "version": 2
   },
   "file_extension": ".py",
   "mimetype": "text/x-python",
   "name": "python",
   "nbconvert_exporter": "python",
   "pygments_lexer": "ipython2",
   "version": "2.7.12"
  }
 },
 "nbformat": 4,
 "nbformat_minor": 2
}
